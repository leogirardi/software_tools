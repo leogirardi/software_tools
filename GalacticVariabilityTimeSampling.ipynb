{
 "cells": [
  {
   "cell_type": "markdown",
   "id": "fe5821da-fa31-4ace-b7d7-20bd8a359c2f",
   "metadata": {},
   "source": [
    "## Variability Time Sampling"
   ]
  },
  {
   "cell_type": "code",
   "execution_count": 1,
   "id": "5e6c4f98-6a0d-44ae-bb3e-753a276bbe09",
   "metadata": {},
   "outputs": [],
   "source": [
    "import os\n",
    "import numpy as np\n",
    "import pandas as pd\n",
    "import matplotlib.pyplot as plt\n",
    "%matplotlib inline\n",
    "import calculate_lsst_field_visibility_astropy"
   ]
  },
  {
   "cell_type": "markdown",
   "id": "c220eddb-ef87-4f14-be20-8f33d0c2ebd1",
   "metadata": {},
   "source": [
    "### Categorizing variability according to timescale ###\n",
    "\n",
    "We group all types of galactic stellar variabililty into either transient and periodic phenomena, and consider four very broad categories based on the characteristic *timescale of variability* $\\tau_{var}$, since this is the key characteristic affected by changes in lightcurve time sampling when more or fewer visits to a given pointing are made in the course of the survey.  \n",
    "For transient phenomena, the timescale of variability refers to typical duration of the transient signal, such as the duration of an outburst or explosion, or the Einstein crossing timescale in microlensing.  \n",
    "For periodic phenomena, the timescale of variability is considered to be the primary periodicity of the object, typically the rotation or orbital period.  "
   ]
  },
  {
   "cell_type": "markdown",
   "id": "adbfe30e-3b65-409a-a20d-12adcacf3c6c",
   "metadata": {},
   "source": [
    "Galactic variability can then be grouped into the following categories according to $\\tau_{var}$:\n",
    "* $<$10 days: including exoplanet & White Dwarf transits, stellar flares, short period stellar binaries, pulsating stars (inc. RR Lyrae, Cepheids), some point-source microlensing (e.g., by free-floating planets, bound planet anomalies, brown dwarfs), most binary microlensing, variability in young stars, short-term accretion variability\n",
    "* 10-100 days: includes point-source microlensing by galactic stellar-mass lenses (but not binary-lens anomalies), intermediate stellar pulsation periods, disk instability in Cataclysmic Variables, novae\n",
    "* 100-365 days: includes microlensing by black holes, long-timescale pulsations, \n",
    "* $>$365 days: includes long-period variables, e.g. Miras"
   ]
  },
  {
   "cell_type": "markdown",
   "id": "cebfd547-71a0-4f6e-a898-e5d367b27899",
   "metadata": {},
   "source": [
    "Although LSST will generate an alert whenever an object varies by more than 5$\\sigma$ from the reference flux, for most of Galactic science this is insufficient to reliably detect variability and certainly inadequate to meaningfully classify it.  \n",
    "\n",
    "Based on previous follow-up experience we require a minimum of 5 observations taken within $\\tau_{var}$ to consider a variable target \"detectable\" in the sense of being able to accurately extract targets of interest from the LSST datastream (for comparison we understand the ZTF estimate that 10 observations are required).  Note that this neglects requirements for multi-color observations in order to simplify the problem.  \n",
    "\n",
    "Applying this requirement to transient phenomena, we derive a maximum-useful observation interval, $\\tau_{obs} = \\tau_{var} / 5$ for the four categories above:\n",
    "* $\\tau_{var} < $10 days, $\\tau_{obs}$ = 2days\n",
    "* 10 $<$ $\\tau_{var} < $100 days, $\\tau_{obs}$ = 2 - 20 days\n",
    "* 100 $<$ $\\tau_{var} < $365 days, $\\tau_{obs}$ = 20 - 73 days\n",
    "* $\\tau_{var} > $365 days, $\\tau_{obs}$ = 73days"
   ]
  },
  {
   "cell_type": "code",
   "execution_count": 2,
   "id": "5291296d-3dc4-43da-9f99-83e3ff277e4c",
   "metadata": {},
   "outputs": [],
   "source": [
    "# Maximum acceptable gap in sequential observations for different variability categories [days]:\n",
    "tau_obs = tau_obs = [2.0, 20.0, 73.0, 365.0]"
   ]
  },
  {
   "cell_type": "markdown",
   "id": "833d7f3e-bff6-4aa1-8b9b-43d32591e14f",
   "metadata": {},
   "source": [
    "### Metrics to evaluate time sampling for stellar variability\n",
    "\n",
    "The gaps in timeseries photometry dictate how well any form of variability can be recovered from it, with the emphasis on minimizing the gaps.  From an observing strategy perspective, aside from the unavoidable daytime gaps, there are three factors which cause gaps: \n",
    "\n",
    "* the median interval between sequential observations\n",
    "* the total period where this median interval is maintained \n",
    "* the maximum interval.  This takes into account the potential for longer breaks in the timeseries when the field is intentionally not visited (for example, as a result of a rolling cadence strategy).  "
   ]
  },
  {
   "cell_type": "markdown",
   "id": "1f4c96e0-dd46-41d2-90c6-dcb763a70c16",
   "metadata": {},
   "source": [
    "The MAF metric VisitGapMetric calculates the median interval between observations.  This can be compared directly with the $\\tau_{obs}$ categories defined above:"
   ]
  },
  {
   "cell_type": "code",
   "execution_count": 10,
   "id": "3c692854-929f-444c-92ac-7c77c92f1f5a",
   "metadata": {},
   "outputs": [],
   "source": [
    "def calcVisitIntervalMetric(delta_t, tau_obs):\n",
    "    K = 1.0/tau_obs\n",
    "    \n",
    "    if type(delta_t) == type(5.0):\n",
    "        delta_t = np.array([delta_t])\n",
    "    \n",
    "    metric = np.zeros(len(delta_t))\n",
    "    idx = np.where(delta_t <= tau_obs)[0]\n",
    "    if len(idx) > 0:\n",
    "        metric[idx] = 1.0\n",
    "    \n",
    "    idx = np.where(delta_t > tau_obs)[0]\n",
    "    if len(idx) > 0:\n",
    "        metric[idx] = np.exp(-K*(delta_t[idx] - tau_obs))\n",
    "\n",
    "    return metric"
   ]
  },
  {
   "cell_type": "markdown",
   "id": "a3ae1f10-bfc5-4293-8594-5593d6132528",
   "metadata": {},
   "source": [
    "To evaluate the impact of gaps due to observing seasons, we propose that the season metrics be used as follows.  \n",
    "\n",
    "The MAF makes the assumption that the maximum possible length of an observing season for a given field is +/-0.5yrs from the time when the field is overhead at the observatory site.  The findSeasonEdges function returns a list of indices of the start and end of each season of observations of a given field under a given observing strategy. \n",
    "\n",
    "The gaps between seasons can then be calculated as follows:"
   ]
  },
  {
   "cell_type": "code",
   "execution_count": 5,
   "id": "5b26bbfc-cc9e-4110-880a-c780ebaf22f4",
   "metadata": {},
   "outputs": [],
   "source": [
    "def calcSeasonGaps(ra, time):\n",
    "    \"\"\"Given the RA of a field pointing, and time of observation, calculate the length of the gaps between \n",
    "    observing seasons.\n",
    "    \n",
    "    Parameters\n",
    "    ----------\n",
    "    ra : float\n",
    "        The RA (in degrees) of the point on the sky\n",
    "    time : np.ndarray\n",
    "        The times of the observations, in MJD\n",
    "    Returns\n",
    "    -------\n",
    "    np.ndarray\n",
    "        Time gaps in days between sequential observing seasons\n",
    "    \"\"\"\n",
    "    \n",
    "    seasons = seasonMetrics.calcSeason(ra, time)\n",
    "    firstOfSeason, lastOfSeason = seasonMetrics.indSeasonEdges(seasons)\n",
    "    ngaps = len(firstOfSeason)-1\n",
    "    season_gaps = data[self.mjdCol][lastOfSeason[0:ngaps-1]] - data[self.mjdCol][firstOfSeason[1:ngaps]]\n",
    "    \n",
    "    return season_gaps"
   ]
  },
  {
   "cell_type": "markdown",
   "id": "362a206f-81d1-46cd-9d2b-5211587b7276",
   "metadata": {},
   "source": [
    "When evaluating the impact of inter-season gaps, we have to take into account the fact that for most fields, some inter-season gap is inevitable simply due to the annual visibility of a given field from the observatory site.  For variability categories where $\\tau_{obs}$ is shorter than the gap in visibility, the season length is not the dominant factor in evaluating a given strategy, and this metric should return 1.0. \n",
    "\n",
    "For variability categories where $\\tau_{obs}$ is comparable to or longer than the gap in visibility, then the inter-season gap can impact how well sampled the variable's lightcurve is, and long gaps will mean the variables cannot be characterized.  For these categories, we apply the calcVisitIntervalMetric.  "
   ]
  },
  {
   "cell_type": "code",
   "execution_count": 12,
   "id": "cf70b2f8-15c8-44fc-b54f-49b00d6a0f6c",
   "metadata": {},
   "outputs": [],
   "source": [
    "def calcSeasonVisibilityGapsMetric(fieldRA,fieldDec,start_date,end_date,tau_obs):\n",
    "    # time array needs computing\n",
    "    season_gaps = calcSeasonGaps(fieldRA, time)\n",
    "    \n",
    "    # This function needs to be updated to calculate visibility over multiple nights\n",
    "    total_time_visible, hrs_visible_per_night = calculate_lsst_field_visibility_astropy.calculate_lsst_field_visibility(fieldRA,fieldDec,start_date,end_date,\n",
    "                                    min_alt=30.0,dt_days=1.0,\n",
    "                                    diagnostics=False,verbose=False)\n",
    "    expected_gap = 365.24 - total_time_visible\n",
    "\n",
    "    if tau_obs >= expected_gap:\n",
    "        metric = 0.0\n",
    "        for t in season_gaps:\n",
    "            metric += calcVisitIntervalMetric(t, tau_obs)\n",
    "        metric /= 10.0\n",
    "    \n",
    "    else:\n",
    "        metric = 1.0\n",
    "        \n",
    "    return metric"
   ]
  },
  {
   "cell_type": "markdown",
   "id": "878e43dc-cbf1-41f9-bf8f-44d322d4d180",
   "metadata": {},
   "source": [
    "### Interpreting the variability time sampling - transients\n",
    "\n",
    "For transient phenomena, it is relatively straightforward to combine the two metrics to evaluate how well a given strategy will sample the variability.  The number of transients recovered scales linearly with the number of seasons of observation of a given field with a time sampling less than the $\\tau_{obs}$ for each category.  \n",
    "\n",
    "We therefore propose the following metric:"
   ]
  },
  {
   "cell_type": "code",
   "execution_count": 13,
   "id": "d9f4c5ad-198c-4ca9-885d-fefde90d51f8",
   "metadata": {},
   "outputs": [],
   "source": [
    "def transientSampleMetric(tau_obs, delta_t, fieldRA, fieldDec, start_date, end_date):\n",
    "    \n",
    "    # Stores the metric values for each category:\n",
    "    metric = []\n",
    "    \n",
    "    for tau in tau_obs:\n",
    "        metric1 = calcVisitIntervalMetric(delta_t, tau_obs)\n",
    "        metric2 = calcSeasonVisibilityGapsMetric(fieldRA,fieldDec,start_date,end_date,tau)\n",
    "        \n",
    "        metric.append( metric1 * metric2 )\n",
    "    \n",
    "    return metric"
   ]
  },
  {
   "cell_type": "markdown",
   "id": "4a613baf-5e52-4ca1-a1d0-6d4d1cb4ba32",
   "metadata": {},
   "source": [
    "### Interpreting the variability time sampling - periodic variables\n"
   ]
  },
  {
   "cell_type": "markdown",
   "id": "ccc9265c-3df4-40c3-a196-625e7f5d0612",
   "metadata": {},
   "source": [
    "Periodic variables can be detected with a wider range of observing strategies, since even low cadence observations (where the cadence exceeds the dominant period) will eventually fully populate the phase curve.  However, there are strong advantages to identifying periodic variables early in the LSST survey, rather than waiting to recover them later.  \n",
    "\n",
    "Firstly it allows more extensive follow-up and characterization of the variables at an earlier juncture, and (combined with observations later in the survey) ensures that changes in periodicty can also be measured.  Moreover, it allows us to identify those objects which, in addition to periodic behavior, are likely exhibit transitory events such as outbursts, for which additional real-time follow-up observations will be desirable.  It also enables us to distinguish all classes of transient more accurately from the population of repeating variable stars.  "
   ]
  },
  {
   "cell_type": "markdown",
   "id": "96fb55e8-d704-4a22-8200-009160702bf5",
   "metadata": {},
   "source": [
    "The MAF contains existing metrics to evaluate how well periodic photometric behaviour could be detected from a given set of observations, such as the periodicDetectMetric. We propose that these metrics be calculated for dataSlices containing observations from the first two years of the LSST. \n",
    "\n",
    "This metric returns a value of 1 if the periodicity would be detected, or 0 if not.  \n",
    "We propose that this should be evaluated for the four variability categories of $\\tau_{var}$ = {5, 50, 132.5, 365.0} days."
   ]
  },
  {
   "cell_type": "code",
   "execution_count": null,
   "id": "a0671d2c-cede-4174-8fa9-757945452bd2",
   "metadata": {},
   "outputs": [],
   "source": []
  },
  {
   "cell_type": "code",
   "execution_count": null,
   "id": "921d9fb4-dc1f-43da-8985-43642a7ef94e",
   "metadata": {},
   "outputs": [],
   "source": []
  }
 ],
 "metadata": {
  "kernelspec": {
   "display_name": "Python 3 (ipykernel)",
   "language": "python",
   "name": "python3"
  },
  "language_info": {
   "codemirror_mode": {
    "name": "ipython",
    "version": 3
   },
   "file_extension": ".py",
   "mimetype": "text/x-python",
   "name": "python",
   "nbconvert_exporter": "python",
   "pygments_lexer": "ipython3",
   "version": "3.9.6"
  }
 },
 "nbformat": 4,
 "nbformat_minor": 5
}
